{
  "nbformat": 4,
  "nbformat_minor": 0,
  "metadata": {
    "colab": {
      "provenance": [],
      "include_colab_link": true
    },
    "kernelspec": {
      "name": "python3",
      "display_name": "Python 3"
    },
    "language_info": {
      "name": "python"
    }
  },
  "cells": [
    {
      "cell_type": "markdown",
      "metadata": {
        "id": "view-in-github",
        "colab_type": "text"
      },
      "source": [
        "<a href=\"https://colab.research.google.com/github/DariaPokh/Data_analysis/blob/main/%D0%9F%D0%BE%D1%85_%D0%94%D0%B0%D1%80%D1%8C%D1%8F_%D0%A1%D0%B5%D1%80%D0%B3%D0%B5%D0%B5%D0%B2%D0%BD%D0%B0_%22_%D0%9F%D0%B0%D1%80%D1%81%D0%B8%D0%BD%D0%B3_%D0%B4%D0%B0%D0%BD%D0%BD%D1%8B%D1%85_%D1%81_%D1%81%D0%B0%D0%B9%D1%82%D0%BE%D0%B2_%D0%BD%D0%B0_Python_%D1%81_%D0%BF%D0%BE%D0%BC%D0%BE%D1%89%D1%8C%D1%8E_%D1%84%D1%80%D0%B5%D0%B9%D0%BC%D0%B2%D0%BE%D1%80%D0%BA%D0%B0_Scrapy_2_ipynb%22.ipynb\" target=\"_parent\"><img src=\"https://colab.research.google.com/assets/colab-badge.svg\" alt=\"Open In Colab\"/></a>"
      ]
    },
    {
      "cell_type": "markdown",
      "source": [
        "# Задача 1\n",
        "\n",
        "Соберите информацию о подарочных наборах сайта siberia.eco (https://siberia.eco/gotovye-podarki/)\n",
        "\n",
        "Необходимо собрать следующие данные:\n",
        "* Название набора\n",
        "* Цена\n",
        "* Состав набора\n",
        "\n",
        "Результат должен быть записан в CSV файл"
      ],
      "metadata": {
        "id": "fJGTnp4FWjq9"
      }
    },
    {
      "cell_type": "markdown",
      "source": [
        "Установка библиотеки Scrapy"
      ],
      "metadata": {
        "id": "zAdzCxkFnzJ5"
      }
    },
    {
      "cell_type": "code",
      "source": [
        "!pip install scrapy"
      ],
      "metadata": {
        "id": "rSJA98wNn0RW"
      },
      "execution_count": null,
      "outputs": []
    },
    {
      "cell_type": "markdown",
      "source": [
        "Создание проекта Scrapy"
      ],
      "metadata": {
        "id": "Cnd_yPT5oR3P"
      }
    },
    {
      "cell_type": "code",
      "source": [
        "!scrapy startproject datadiving_project"
      ],
      "metadata": {
        "id": "fuX7DFkloUTT"
      },
      "execution_count": null,
      "outputs": []
    },
    {
      "cell_type": "markdown",
      "source": [
        "Парсинг сайта"
      ],
      "metadata": {
        "id": "oAGuozbPojuj"
      }
    },
    {
      "cell_type": "code",
      "source": [
        "import scrapy\n",
        "\n",
        "class EcoSpider(scrapy.Spider):\n",
        "  name = 'ecoGift'\n",
        "  start_urls = ['https://siberia.eco/gotovye-podarki/']\n",
        "\n",
        "  def parse(self, response):\n",
        "    for link in response.css('div.card-borders a::attr(href)'):\n",
        "      yield response.follow(link, callback=self.parse_page)\n",
        "    \n",
        "  \n",
        "  def parse_page(self, response):\n",
        "    yield {\n",
        "        \"name\": response.css('div.d-flex h1::text').get(),\n",
        "        \"price\": response.css('span.price::text').get(),\n",
        "        \"compound\":response.css('div.s-product-desc ul li a::text').get() if response.css('div.s-product-desc ul li a::text').get() else response.css('div.s-product-desc p span::text').get()\n",
        "    }\n",
        "    "
      ],
      "metadata": {
        "id": "mNaw2cU6o78A"
      },
      "execution_count": null,
      "outputs": []
    },
    {
      "cell_type": "code",
      "source": [
        "%cd datadiving_project/spiders\n",
        "!scrapy runspider /content/datadiving_project/datadiving_project/spiders/EcoSpider.py -o \"ecoGift.csv\""
      ],
      "metadata": {
        "id": "_hx_e7Uurr0H"
      },
      "execution_count": null,
      "outputs": []
    }
  ]
}