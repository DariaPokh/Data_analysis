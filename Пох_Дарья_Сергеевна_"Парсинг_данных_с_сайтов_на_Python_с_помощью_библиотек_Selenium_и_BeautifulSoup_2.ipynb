{
  "cells": [
    {
      "cell_type": "markdown",
      "metadata": {
        "id": "view-in-github",
        "colab_type": "text"
      },
      "source": [
        "<a href=\"https://colab.research.google.com/github/DariaPokh/Data_analysis/blob/main/%D0%9F%D0%BE%D1%85_%D0%94%D0%B0%D1%80%D1%8C%D1%8F_%D0%A1%D0%B5%D1%80%D0%B3%D0%B5%D0%B5%D0%B2%D0%BD%D0%B0_%22%D0%9F%D0%B0%D1%80%D1%81%D0%B8%D0%BD%D0%B3_%D0%B4%D0%B0%D0%BD%D0%BD%D1%8B%D1%85_%D1%81_%D1%81%D0%B0%D0%B9%D1%82%D0%BE%D0%B2_%D0%BD%D0%B0_Python_%D1%81_%D0%BF%D0%BE%D0%BC%D0%BE%D1%89%D1%8C%D1%8E_%D0%B1%D0%B8%D0%B1%D0%BB%D0%B8%D0%BE%D1%82%D0%B5%D0%BA_Selenium_%D0%B8_BeautifulSoup_2.ipynb\" target=\"_parent\"><img src=\"https://colab.research.google.com/assets/colab-badge.svg\" alt=\"Open In Colab\"/></a>"
      ]
    },
    {
      "cell_type": "markdown",
      "metadata": {
        "id": "99YXvDZiRihn"
      },
      "source": [
        "Установка библиотеки Selenium"
      ]
    },
    {
      "cell_type": "code",
      "execution_count": null,
      "metadata": {
        "colab": {
          "base_uri": "https://localhost:8080/"
        },
        "id": "UEwqE6wLRodL",
        "outputId": "00c9fc54-b264-4694-f285-7c818147be5a"
      },
      "outputs": [
        {
          "name": "stdout",
          "output_type": "stream",
          "text": [
            "Looking in indexes: https://pypi.org/simple, https://us-python.pkg.dev/colab-wheels/public/simple/\n",
            "Collecting selenium\n",
            "  Downloading selenium-4.4.3-py3-none-any.whl (985 kB)\n",
            "\u001b[K     |████████████████████████████████| 985 kB 4.1 MB/s \n",
            "\u001b[?25hCollecting urllib3[socks]~=1.26\n",
            "  Downloading urllib3-1.26.12-py2.py3-none-any.whl (140 kB)\n",
            "\u001b[K     |████████████████████████████████| 140 kB 50.7 MB/s \n",
            "\u001b[?25hRequirement already satisfied: certifi>=2021.10.8 in /usr/local/lib/python3.7/dist-packages (from selenium) (2022.6.15)\n",
            "Collecting trio-websocket~=0.9\n",
            "  Downloading trio_websocket-0.9.2-py3-none-any.whl (16 kB)\n",
            "Collecting trio~=0.17\n",
            "  Downloading trio-0.21.0-py3-none-any.whl (358 kB)\n",
            "\u001b[K     |████████████████████████████████| 358 kB 57.1 MB/s \n",
            "\u001b[?25hRequirement already satisfied: attrs>=19.2.0 in /usr/local/lib/python3.7/dist-packages (from trio~=0.17->selenium) (22.1.0)\n",
            "Requirement already satisfied: sortedcontainers in /usr/local/lib/python3.7/dist-packages (from trio~=0.17->selenium) (2.4.0)\n",
            "Requirement already satisfied: idna in /usr/local/lib/python3.7/dist-packages (from trio~=0.17->selenium) (2.10)\n",
            "Collecting async-generator>=1.9\n",
            "  Downloading async_generator-1.10-py3-none-any.whl (18 kB)\n",
            "Collecting outcome\n",
            "  Downloading outcome-1.2.0-py2.py3-none-any.whl (9.7 kB)\n",
            "Collecting sniffio\n",
            "  Downloading sniffio-1.3.0-py3-none-any.whl (10 kB)\n",
            "Collecting wsproto>=0.14\n",
            "  Downloading wsproto-1.2.0-py3-none-any.whl (24 kB)\n",
            "Requirement already satisfied: PySocks!=1.5.7,<2.0,>=1.5.6 in /usr/local/lib/python3.7/dist-packages (from urllib3[socks]~=1.26->selenium) (1.7.1)\n",
            "Collecting h11<1,>=0.9.0\n",
            "  Downloading h11-0.13.0-py3-none-any.whl (58 kB)\n",
            "\u001b[K     |████████████████████████████████| 58 kB 5.7 MB/s \n",
            "\u001b[?25hRequirement already satisfied: typing-extensions in /usr/local/lib/python3.7/dist-packages (from h11<1,>=0.9.0->wsproto>=0.14->trio-websocket~=0.9->selenium) (4.1.1)\n",
            "Installing collected packages: sniffio, outcome, h11, async-generator, wsproto, urllib3, trio, trio-websocket, selenium\n",
            "  Attempting uninstall: urllib3\n",
            "    Found existing installation: urllib3 1.24.3\n",
            "    Uninstalling urllib3-1.24.3:\n",
            "      Successfully uninstalled urllib3-1.24.3\n",
            "\u001b[31mERROR: pip's dependency resolver does not currently take into account all the packages that are installed. This behaviour is the source of the following dependency conflicts.\n",
            "requests 2.23.0 requires urllib3!=1.25.0,!=1.25.1,<1.26,>=1.21.1, but you have urllib3 1.26.12 which is incompatible.\u001b[0m\n",
            "Successfully installed async-generator-1.10 h11-0.13.0 outcome-1.2.0 selenium-4.4.3 sniffio-1.3.0 trio-0.21.0 trio-websocket-0.9.2 urllib3-1.26.12 wsproto-1.2.0\n"
          ]
        }
      ],
      "source": [
        "!pip install selenium"
      ]
    },
    {
      "cell_type": "markdown",
      "metadata": {
        "id": "v3mc-zV6R26h"
      },
      "source": [
        "**Установка драйверов в локальную систему**\n",
        "\n",
        "1. Получить вашу версию драйвера Google по ссылке chrome://version/\n",
        "2. По указанной ссылке найти драйвер нужной версии и скачать его\n",
        "3. Положить драйвер в одну директорию с файлом парсера"
      ]
    },
    {
      "cell_type": "code",
      "execution_count": null,
      "metadata": {
        "colab": {
          "background_save": true,
          "base_uri": "https://localhost:8080/"
        },
        "id": "4dGPSVIfSR44",
        "outputId": "7bc5cb62-8183-4daf-e022-7e67ec65e94c"
      },
      "outputs": [
        {
          "name": "stdout",
          "output_type": "stream",
          "text": [
            "Get:1 https://cloud.r-project.org/bin/linux/ubuntu bionic-cran40/ InRelease [3,626 B]\n",
            "Get:2 http://ppa.launchpad.net/c2d4u.team/c2d4u4.0+/ubuntu bionic InRelease [15.9 kB]\n",
            "Get:3 http://security.ubuntu.com/ubuntu bionic-security InRelease [88.7 kB]\n",
            "Ign:4 https://developer.download.nvidia.com/compute/machine-learning/repos/ubuntu1804/x86_64  InRelease\n",
            "Hit:5 https://developer.download.nvidia.com/compute/cuda/repos/ubuntu1804/x86_64  InRelease\n",
            "Hit:6 https://developer.download.nvidia.com/compute/machine-learning/repos/ubuntu1804/x86_64  Release\n",
            "Hit:7 http://archive.ubuntu.com/ubuntu bionic InRelease\n",
            "Get:8 http://archive.ubuntu.com/ubuntu bionic-updates InRelease [88.7 kB]\n",
            "Hit:9 http://ppa.launchpad.net/cran/libgit2/ubuntu bionic InRelease\n",
            "Get:10 https://cloud.r-project.org/bin/linux/ubuntu bionic-cran40/ Packages [92.1 kB]\n",
            "Hit:11 http://ppa.launchpad.net/deadsnakes/ppa/ubuntu bionic InRelease\n",
            "Get:12 http://archive.ubuntu.com/ubuntu bionic-backports InRelease [74.6 kB]\n",
            "Hit:13 http://ppa.launchpad.net/graphics-drivers/ppa/ubuntu bionic InRelease\n",
            "Get:15 http://ppa.launchpad.net/c2d4u.team/c2d4u4.0+/ubuntu bionic/main Sources [2,108 kB]\n",
            "Get:16 http://security.ubuntu.com/ubuntu bionic-security/restricted amd64 Packages [1,161 kB]\n",
            "Get:17 http://security.ubuntu.com/ubuntu bionic-security/universe amd64 Packages [1,545 kB]\n",
            "Get:18 http://archive.ubuntu.com/ubuntu bionic-updates/restricted amd64 Packages [1,202 kB]\n",
            "Get:19 http://security.ubuntu.com/ubuntu bionic-security/main amd64 Packages [2,989 kB]\n",
            "Get:20 http://ppa.launchpad.net/c2d4u.team/c2d4u4.0+/ubuntu bionic/main amd64 Packages [1,080 kB]\n",
            "Get:21 http://archive.ubuntu.com/ubuntu bionic-updates/universe amd64 Packages [2,322 kB]\n",
            "Get:22 http://archive.ubuntu.com/ubuntu bionic-updates/main amd64 Packages [3,421 kB]\n",
            "Fetched 16.2 MB in 4s (3,821 kB/s)\n",
            "Reading package lists... Done\n",
            "Reading package lists... Done\n",
            "Building dependency tree       \n",
            "Reading state information... Done\n",
            "The following package was automatically installed and is no longer required:\n",
            "  libnvidia-common-460\n",
            "Use 'apt autoremove' to remove it.\n",
            "The following additional packages will be installed:\n",
            "  chromium-browser chromium-browser-l10n chromium-codecs-ffmpeg-extra\n",
            "Suggested packages:\n",
            "  webaccounts-chromium-extension unity-chromium-extension\n",
            "The following NEW packages will be installed:\n",
            "  chromium-browser chromium-browser-l10n chromium-chromedriver\n",
            "  chromium-codecs-ffmpeg-extra\n",
            "0 upgraded, 4 newly installed, 0 to remove and 38 not upgraded.\n",
            "Need to get 91.7 MB of archives.\n",
            "After this operation, 309 MB of additional disk space will be used.\n",
            "Get:1 http://archive.ubuntu.com/ubuntu bionic-updates/universe amd64 chromium-codecs-ffmpeg-extra amd64 105.0.5195.102-0ubuntu0.18.04.1 [1,156 kB]\n",
            "Get:2 http://archive.ubuntu.com/ubuntu bionic-updates/universe amd64 chromium-browser amd64 105.0.5195.102-0ubuntu0.18.04.1 [80.1 MB]\n",
            "Get:3 http://archive.ubuntu.com/ubuntu bionic-updates/universe amd64 chromium-browser-l10n all 105.0.5195.102-0ubuntu0.18.04.1 [5,097 kB]\n",
            "Get:4 http://archive.ubuntu.com/ubuntu bionic-updates/universe amd64 chromium-chromedriver amd64 105.0.5195.102-0ubuntu0.18.04.1 [5,320 kB]\n",
            "Fetched 91.7 MB in 4s (22.5 MB/s)\n",
            "Selecting previously unselected package chromium-codecs-ffmpeg-extra.\n",
            "(Reading database ... 155569 files and directories currently installed.)\n",
            "Preparing to unpack .../chromium-codecs-ffmpeg-extra_105.0.5195.102-0ubuntu0.18.04.1_amd64.deb ...\n",
            "Unpacking chromium-codecs-ffmpeg-extra (105.0.5195.102-0ubuntu0.18.04.1) ...\n",
            "Selecting previously unselected package chromium-browser.\n",
            "Preparing to unpack .../chromium-browser_105.0.5195.102-0ubuntu0.18.04.1_amd64.deb ...\n",
            "Unpacking chromium-browser (105.0.5195.102-0ubuntu0.18.04.1) ...\n",
            "Selecting previously unselected package chromium-browser-l10n.\n",
            "Preparing to unpack .../chromium-browser-l10n_105.0.5195.102-0ubuntu0.18.04.1_all.deb ...\n",
            "Unpacking chromium-browser-l10n (105.0.5195.102-0ubuntu0.18.04.1) ...\n",
            "Selecting previously unselected package chromium-chromedriver.\n",
            "Preparing to unpack .../chromium-chromedriver_105.0.5195.102-0ubuntu0.18.04.1_amd64.deb ...\n",
            "Unpacking chromium-chromedriver (105.0.5195.102-0ubuntu0.18.04.1) ...\n",
            "Setting up chromium-codecs-ffmpeg-extra (105.0.5195.102-0ubuntu0.18.04.1) ...\n",
            "Setting up chromium-browser (105.0.5195.102-0ubuntu0.18.04.1) ...\n",
            "update-alternatives: using /usr/bin/chromium-browser to provide /usr/bin/x-www-browser (x-www-browser) in auto mode\n",
            "update-alternatives: using /usr/bin/chromium-browser to provide /usr/bin/gnome-www-browser (gnome-www-browser) in auto mode\n",
            "Setting up chromium-chromedriver (105.0.5195.102-0ubuntu0.18.04.1) ...\n",
            "Setting up chromium-browser-l10n (105.0.5195.102-0ubuntu0.18.04.1) ...\n",
            "Processing triggers for man-db (2.8.3-2ubuntu0.1) ...\n",
            "Processing triggers for hicolor-icon-theme (0.17-2) ...\n",
            "Processing triggers for mime-support (3.60ubuntu1) ...\n",
            "Processing triggers for libc-bin (2.27-3ubuntu1.5) ...\n",
            "cp: '/usr/lib/chromium-browser/chromedriver' and '/usr/bin/chromedriver' are the same file\n"
          ]
        }
      ],
      "source": [
        "!apt-get update\n",
        "!apt install chromium-chromedriver\n",
        "!cp /usr/lib/chromium-browser/chromedriver /usr/bin\n",
        "import sys\n",
        "sys.path.insert(0,'/usr/lib/chromium-browser/chromedriver')"
      ]
    },
    {
      "cell_type": "markdown",
      "metadata": {
        "id": "A6d578tAK6MY"
      },
      "source": [
        "# Задание 1\n",
        "\n",
        "Написать код, который выполнит ввод слова \"Lenovo\" в поисковую строку сайта  1000kem.ru (https://1000kem.ru/contacts/) и выполнить поиск\n",
        "<br>\n",
        "<br>\n",
        "![image.png](data:image/png;base64,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)\n",
        "\n",
        "*(подсказка: изучите внимательно документацию и метод send_keys)*"
      ]
    },
    {
      "cell_type": "code",
      "execution_count": null,
      "metadata": {
        "id": "HpYdWivYUDo_"
      },
      "outputs": [],
      "source": [
        "# Инструмент для автоматизации действий веб-браузера\n",
        "from selenium import webdriver \n",
        "from selenium.webdriver.common.by import By\n",
        "from selenium.common.exceptions import NoSuchElementException\n",
        "import time \n",
        "\n",
        "\n",
        "def get_source_html(url):\n",
        "  # Установка параметров для headless браузера \n",
        "  options = webdriver.ChromeOptions()\n",
        "  options.add_argument('--headless')\n",
        "  options.add_argument('--no-sandbox')\n",
        "  options.add_argument('--disable-dev-shm-usage')\n",
        "  \n",
        "  # Инициализация сессии браузера \n",
        "  driver = webdriver.Chrome('chromedriver', options=options)\n",
        "  # Переход по ссылке \n",
        "  driver.get(url)\n",
        "  time.sleep(3)\n",
        "  \n",
        "  try:\n",
        "    # Ввести текст в поле ввода\n",
        "    field = driver.find_element(By.ID, 'title-search-input')\n",
        "    time.sleep(3)\n",
        "    field.send_keys('Lenovo')\n",
        "    time.sleep(3)\n",
        "    field.click()\n",
        "  except NoSuchElementException:\n",
        "    print('Элемент не найден')\n",
        "  except Exception as ex:\n",
        "    print(ex, \"*******************\")\n",
        "    \n",
        "  return driver.page_source\n",
        "\n",
        "html = get_source_html(\"https://1000kem.ru/contacts/\")\n",
        "html"
      ]
    },
    {
      "cell_type": "markdown",
      "metadata": {
        "id": "qX0N94YfKMVS"
      },
      "source": [
        "# Задание 2\n",
        "\n",
        "Соберите информацию с сайта nbcomputers.ru (https://www.nbcomputers.ru/catalog/noutbuki/) о ноутбуках данного интернет-магазина.\n",
        "<br>\n",
        "Данные, которые необходимы:\n",
        "* Название ноутбука\n",
        "* Цена ноутбука\n",
        "* Код товара\n",
        "\n",
        "Результат необходимо записать в CSV файл.\n",
        "<br>\n",
        "*(совет: обязательно делайте различные временные промежутки между прокликами)*"
      ]
    },
    {
      "cell_type": "code",
      "execution_count": null,
      "metadata": {
        "colab": {
          "base_uri": "https://localhost:8080/"
        },
        "id": "oBUSfbsknQTh",
        "outputId": "6cf4a8e2-8ac1-4a3a-f776-442b0d095816"
      },
      "outputs": [
        {
          "name": "stdout",
          "output_type": "stream",
          "text": [
            "Message: stale element reference: element is not attached to the page document\n",
            "  (Session info: headless chrome=101.0.4951.64)\n",
            "Stacktrace:\n",
            "#0 0x55cf5593d553 <unknown>\n",
            "#1 0x55cf55628183 <unknown>\n",
            "#2 0x55cf5562b2c9 <unknown>\n",
            "#3 0x55cf5562b0e3 <unknown>\n",
            "#4 0x55cf5562b377 <unknown>\n",
            "#5 0x55cf556601fe <unknown>\n",
            "#6 0x55cf5565449d <unknown>\n",
            "#7 0x55cf5567bf82 <unknown>\n",
            "#8 0x55cf55653e36 <unknown>\n",
            "#9 0x55cf5567c3be <unknown>\n",
            "#10 0x55cf55690d6c <unknown>\n",
            "#11 0x55cf5567c363 <unknown>\n",
            "#12 0x55cf5565247c <unknown>\n",
            "#13 0x55cf55653945 <unknown>\n",
            "#14 0x55cf559ad9d0 <unknown>\n",
            "#15 0x55cf55972a38 <unknown>\n",
            "#16 0x55cf5597275c <unknown>\n",
            "#17 0x55cf55972fc2 <unknown>\n",
            "#18 0x55cf559ab71b <unknown>\n",
            "#19 0x55cf55973221 <unknown>\n",
            "#20 0x55cf559565b3 <unknown>\n",
            "#21 0x55cf5597c988 <unknown>\n",
            "#22 0x55cf5597cb1a <unknown>\n",
            "#23 0x55cf55995a41 <unknown>\n",
            "#24 0x7f9635c336db <unknown>\n",
            " *******************\n"
          ]
        }
      ],
      "source": [
        "# Инструмент для автоматизации действий веб-браузера\n",
        "from selenium import webdriver \n",
        "from selenium.webdriver.common.by import By\n",
        "from selenium.common.exceptions import NoSuchElementException\n",
        "import time \n",
        "from bs4 import BeautifulSoup\n",
        "import csv\n",
        "import re\n",
        "\n",
        "\n",
        "def get_source_html(url):\n",
        "    # Установка параметров для headless браузера \n",
        "    options = webdriver.ChromeOptions()\n",
        "    options.add_argument('--headless')\n",
        "    options.add_argument('--no-sandbox')\n",
        "    options.add_argument('--disable-dev-shm-usage')\n",
        "\n",
        "    # Инициализация сессии браузера \n",
        "    driver = webdriver.Chrome('chromedriver', options=options)\n",
        "    # Переход по ссылке \n",
        "    driver.get(url)\n",
        "    time.sleep(3)\n",
        "\n",
        "    while True:\n",
        "        try:\n",
        "            # Клик на кнопку \"Показать еще\"\n",
        "            driver.find_element(by=By.CSS_SELECTOR, value=\"span.catalog-items_more-link_label\").click()\n",
        "            time.sleep(3)\n",
        "        except NoSuchElementException:\n",
        "            print('Элемент не найден')\n",
        "            break\n",
        "        except Exception as ex:\n",
        "            print(ex, \"*******************\")\n",
        "            break\n",
        "    return driver.page_source\n",
        "    \n",
        "\n",
        "\n",
        "def parse_page(page):\n",
        "  info_list = []\n",
        "  product_dict = {}\n",
        "  names = page.select(\"a.catalog-items_link\")\n",
        "  prices = page.select(\"div.catalog-items_new-price\")\n",
        "  codes = page.select(\"div.catalog-items_code\")\n",
        "  for index in range(len(names)):\n",
        "    product_dict = {}\n",
        "    product_dict[\"Название ноутбука\"] = names[index].text\n",
        "    product_dict[\"Цена ноутбука\"] = ''.join([s for s in re.findall(r'-?\\d+\\.?\\d*', prices[index].text)])\n",
        "    product_dict[\"Код товара\"] = ''.join([s for s in re.findall(r'-?\\d+\\.?\\d*', codes[index].text)])\n",
        "    info_list.append(product_dict)\n",
        "  return info_list\n",
        "\n",
        "def save_result(result):\n",
        "    f = open(\"product.csv\", \"w\")\n",
        "    writer = csv.DictWriter(f, fieldnames=result[0].keys())\n",
        "    writer.writeheader()\n",
        "    for item in result:\n",
        "        writer.writerow(item)\n",
        "\n",
        "html = get_source_html(\"https://www.nbcomputers.ru/catalog/noutbuki/\")\n",
        "soup = BeautifulSoup(html)\n",
        "parse = parse_page(soup)\n",
        "save_result(parse)          \n"
      ]
    }
  ],
  "metadata": {
    "colab": {
      "provenance": [],
      "include_colab_link": true
    },
    "kernelspec": {
      "display_name": "Python 3",
      "name": "python3"
    },
    "language_info": {
      "name": "python"
    }
  },
  "nbformat": 4,
  "nbformat_minor": 0
}