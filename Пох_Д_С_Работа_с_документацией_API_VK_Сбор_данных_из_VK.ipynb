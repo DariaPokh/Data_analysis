{
  "nbformat": 4,
  "nbformat_minor": 0,
  "metadata": {
    "colab": {
      "provenance": [],
      "include_colab_link": true
    },
    "kernelspec": {
      "name": "python3",
      "display_name": "Python 3"
    },
    "language_info": {
      "name": "python"
    }
  },
  "cells": [
    {
      "cell_type": "markdown",
      "metadata": {
        "id": "view-in-github",
        "colab_type": "text"
      },
      "source": [
        "<a href=\"https://colab.research.google.com/github/DariaPokh/Data_analysis/blob/main/%D0%9F%D0%BE%D1%85_%D0%94_%D0%A1_%D0%A0%D0%B0%D0%B1%D0%BE%D1%82%D0%B0_%D1%81_%D0%B4%D0%BE%D0%BA%D1%83%D0%BC%D0%B5%D0%BD%D1%82%D0%B0%D1%86%D0%B8%D0%B5%D0%B9_API_VK_%D0%A1%D0%B1%D0%BE%D1%80_%D0%B4%D0%B0%D0%BD%D0%BD%D1%8B%D1%85_%D0%B8%D0%B7_VK.ipynb\" target=\"_parent\"><img src=\"https://colab.research.google.com/assets/colab-badge.svg\" alt=\"Open In Colab\"/></a>"
      ]
    },
    {
      "cell_type": "markdown",
      "source": [
        "## **Задание 1. Работа с документацией API VK**"
      ],
      "metadata": {
        "id": "zKH9MpmOepks"
      }
    },
    {
      "cell_type": "markdown",
      "source": [
        "С помощью методов API ВКонтакте получите список высших учебных заведений и названия их факультетов в городе Томск.\n",
        "Результат должен быть записан в файл JSON в следующем формате:"
      ],
      "metadata": {
        "id": "MgvkdXgsex5B"
      }
    },
    {
      "cell_type": "code",
      "execution_count": null,
      "metadata": {
        "id": "jUQjnKLTelrA",
        "colab": {
          "base_uri": "https://localhost:8080/"
        },
        "outputId": "f09c8b30-117f-4b6d-b29e-d1ac67a66dca"
      },
      "outputs": [
        {
          "output_type": "stream",
          "name": "stdout",
          "text": [
            "exceptions must derive from BaseException\n"
          ]
        }
      ],
      "source": [
        "import requests\n",
        "import json\n",
        "\n",
        "ACCESS_TOKEN = \"132e7bea57998e1874459eabbbabd9b834dade417af1adf7aab6bae88dfdd7b6f67a53ada67de5a17aebf\"\n",
        "COUNTRY_CODE = \"RU\"\n",
        "\n",
        "URL_UNIVERSITIES = \"https://api.vk.com/method/database.getUniversities\"\n",
        "URL_FACULTIES = \"https://api.vk.com/method/database.getFaculties\"\n",
        "\n",
        "COUNTRY_ID = 1\n",
        "CITY_ID = 144\n",
        "\n",
        "const_params = {\"access_token\": ACCESS_TOKEN, \"v\": \"5.131\"}\n",
        "\n",
        "try:\n",
        "    params = {\n",
        "      **const_params,\n",
        "      \"country_id\": COUNTRY_ID,\n",
        "      \"city_id\": CITY_ID}\n",
        "      \n",
        "    resp = requests.get(URL_UNIVERSITIES, params=params).json()\n",
        "    \n",
        "    if resp.get(\"error\"): raise(\"Get University error!\")\n",
        "\n",
        "    universities = resp['response']['items']\n",
        "    if len(universities) < 1: raise(\"No Universities was found!\")\n",
        "\n",
        "    results = {\n",
        "      \"cities\": [\n",
        "    {   \n",
        "        \"id\": CITY_ID,\n",
        "        \"name\": \"Томск\",\n",
        "        \"universities\": []\n",
        "     }]}\n",
        "\n",
        "    for university in universities:\n",
        "      university_id = university['id']\n",
        "      university_name = university['title']\n",
        "\n",
        "      params = {**const_params, \"university_id\": university_id}\n",
        "       \n",
        "      resp = requests.get(URL_FACULTIES, params=params).json()\n",
        "       \n",
        "      if resp.get(\"error\"): raise(\"Get faculties error!\")\n",
        "      faculties = resp['response']['items']\n",
        "       \n",
        "      if len(faculties) < 1: raise(\"No faculties were found!\")\n",
        "       \n",
        "      faculty_titles = []\n",
        "\n",
        "      for faculty in faculties:\n",
        "        faculty_titles.append(faculty['title'])\n",
        "        \n",
        "      data = {\n",
        "          \"id\": university_id, \n",
        "          \"name\": university_name,\n",
        "          \"faculties\": faculty_titles\n",
        "          }\n",
        "      results['cities'][0]['universities'].append(data)\n",
        "\n",
        "except Exception as ex:\n",
        "    print(f\"{ex}\")\n",
        "\n",
        "finally:\n",
        "  with open(\"Universities.json\", \"w\") as created_file:\n",
        "      json.dump(results, created_file, ensure_ascii=False)\n"
      ]
    },
    {
      "cell_type": "markdown",
      "source": [
        "# **Задание 2. Сбор данных из социальной сети VK**"
      ],
      "metadata": {
        "id": "XslJSFkAe5-5"
      }
    },
    {
      "cell_type": "markdown",
      "source": [
        "С помощью методов API ВКонтакте получите 1000 подписчиков группы \"Лентач\", отсортирванных по дате регистрации.\n",
        "Вам необходимо собрать следующие данные в CSV файл: пол, название город, семейное положение (ФИО партнера не указывать)."
      ],
      "metadata": {
        "id": "Rg-gNSTzfA7R"
      }
    },
    {
      "cell_type": "code",
      "source": [
        "import requests\n",
        "import csv\n",
        "\n",
        "\n",
        "\n",
        "ACCESS_TOKEN = \"132e7bea57998e1874459eabbbabd9b834dade417af1adf7aab6bae88dfdd7b6f67a53ada67de5a17aebf\"\n",
        "COUNTRY_CODE = \"RU\"\n",
        "\n",
        "URL_MEMBERS = \"https://api.vk.com/method/groups.getMembers\"\n",
        "\n",
        "const_params = {\"access_token\": ACCESS_TOKEN, \"v\": \"5.131\"}\n",
        "list_members = []\n",
        "fieldnames = ['Пол', 'Город', 'Семейное положение']\n",
        "\n",
        "try:\n",
        "    params = {\n",
        "      **const_params,\n",
        "      'group_id': 'lentach',\n",
        "      'sort': 'id_asc',\n",
        "      'count': 1000,\n",
        "      'fields': 'relation, sex, city'}\n",
        "    \n",
        "    resp = requests.get(URL_MEMBERS, params=params).json()\n",
        "    if resp.get(\"error\"): raise(\"Get member error!\")\n",
        "    members = resp['response']['items']\n",
        "    if len(members) < 1: raise(\"No member was found!\")\n",
        "    for member in members:\n",
        "      sex_member = 'мужчина' if member['sex'] == 1 else 'женщина'\n",
        "      try:\n",
        "        member_city = member['city']['title']\n",
        "      except Exception:\n",
        "        member_city = 'не указан'\n",
        "      try:\n",
        "        member_relation = member['relation']\n",
        "        if member_relation == 1:\n",
        "          member_relation = 'не женат/не замужем'\n",
        "        elif member_relation == 2:\n",
        "          member_relation = 'есть друг/есть подруга'\n",
        "        elif member_relation == 3:\n",
        "          member_relation = 'помолвлен/помолвлена'   \n",
        "        elif member_relation == 4:\n",
        "          member_relation = ' женат/замужем'\n",
        "        elif member_relation == 5:\n",
        "          member_relation = 'всё сложно' \n",
        "        elif member_relation == 6:\n",
        "          member_relation = 'в активном поиске'\n",
        "        elif member_relation == 7:\n",
        "          member_relation = 'влюблён/влюблена'   \n",
        "        elif member_relation == 8:\n",
        "          member_relation = 'в гражданском браке'\n",
        "        elif member_relation == 0:\n",
        "          member_relation = 'не указано'    \n",
        "      except Exception:\n",
        "        member_relation = 'не указан'\n",
        "\n",
        "      data = {\"Пол\":sex_member, \"Город\": member_city, \"Семейное положение\": member_relation}\n",
        "      list_members.append(data)\n",
        "\n",
        "except Exception as ex:\n",
        "    print(f\"{ex}\")\n",
        "   \n",
        "finally:\n",
        "  filename = \"members.csv\"\n",
        "  f = open(filename, \"w\")\n",
        "  writer = csv.DictWriter(f, fieldnames=list_members[0].keys())\n",
        "  writer.writeheader()\n",
        "  for member in list_members:\n",
        "    writer.writerow(member)\n",
        "\n"
      ],
      "metadata": {
        "id": "eSslPXrGfDRb"
      },
      "execution_count": null,
      "outputs": []
    },
    {
      "cell_type": "code",
      "source": [],
      "metadata": {
        "id": "Lw-WCPy4KFqk"
      },
      "execution_count": null,
      "outputs": []
    }
  ]
}